{
 "cells": [
  {
   "cell_type": "code",
   "execution_count": 1,
   "metadata": {},
   "outputs": [
    {
     "name": "stdout",
     "output_type": "stream",
     "text": [
      "2.0.0\n"
     ]
    }
   ],
   "source": [
    "from flask import Flask, jsonify, request\n",
    "from flask_cors import CORS, cross_origin\n",
    "import pandas as pd\n",
    "import numpy as np\n",
    "\n",
    "import report_exec_time_model as report_model\n",
    "\n",
    "import subprocess\n",
    "from apscheduler.schedulers.background import BackgroundScheduler\n",
    "import atexit"
   ]
  },
  {
   "cell_type": "code",
   "execution_count": 2,
   "metadata": {},
   "outputs": [
    {
     "data": {
      "text/plain": [
       "<function __main__.<lambda>()>"
      ]
     },
     "execution_count": 2,
     "metadata": {},
     "output_type": "execute_result"
    }
   ],
   "source": [
    "# create scheduler\n",
    "scheduler = BackgroundScheduler()\n",
    "scheduler.start()\n",
    "\n",
    "# Using UTC time to schedule job, once per day.\n",
    "scheduler.add_job(\n",
    "    func=report_model.train_model,\n",
    "    trigger='cron',\n",
    "    hour='14', \n",
    "    minute='30')\n",
    "\n",
    "# Shut down the scheduler when exiting the process\n",
    "atexit.register(lambda: scheduler.shutdown())"
   ]
  },
  {
   "cell_type": "code",
   "execution_count": 3,
   "metadata": {},
   "outputs": [
    {
     "name": "stdout",
     "output_type": "stream",
     "text": [
      " * Serving Flask app \"__main__\" (lazy loading)\n",
      " * Environment: production\n",
      "   WARNING: Do not use the development server in a production environment.\n",
      "   Use a production WSGI server instead.\n",
      " * Debug mode: off\n",
      "  'report_id'         : [1]\n",
      "  'day_part'          : [3]\n",
      "  'report_params'     : [2.70811687]\n"
     ]
    },
    {
     "name": "stderr",
     "output_type": "stream",
     "text": [
      "WARNING: Logging before flag parsing goes to stderr.\n",
      "W0428 14:28:01.308222 139968094037760 base_layer.py:1814] Layer sequential is casting an input tensor from dtype float64 to the layer's dtype of float32, which is new behavior in TensorFlow 2.  The layer has dtype float32 because it's dtype defaults to floatx.\n",
      "\n",
      "If you intended to run this layer in float32, you can safely ignore this warning. If in doubt, this warning is likely only an issue if you are porting a TensorFlow 1.X model to TensorFlow 2.\n",
      "\n",
      "To change all layers to have dtype float64 by default, call `tf.keras.backend.set_floatx('float64')`. To change just this layer, pass dtype='float64' to the layer constructor. If you are the author of this layer, you can disable autocasting by passing autocast=False to the base Layer constructor.\n",
      "\n",
      "W0428 14:30:00.102092 139968094037760 base_layer.py:1814] Layer sequential is casting an input tensor from dtype float64 to the layer's dtype of float32, which is new behavior in TensorFlow 2.  The layer has dtype float32 because it's dtype defaults to floatx.\n",
      "\n",
      "If you intended to run this layer in float32, you can safely ignore this warning. If in doubt, this warning is likely only an issue if you are porting a TensorFlow 1.X model to TensorFlow 2.\n",
      "\n",
      "To change all layers to have dtype float64 by default, call `tf.keras.backend.set_floatx('float64')`. To change just this layer, pass dtype='float64' to the layer constructor. If you are the author of this layer, you can disable autocasting by passing autocast=False to the base Layer constructor.\n",
      "\n",
      "W0428 14:30:00.121016 139968094037760 deprecation.py:323] From /opt/conda/lib/python3.6/site-packages/tensorflow_core/python/feature_column/feature_column_v2.py:4276: IndicatorColumn._variable_shape (from tensorflow.python.feature_column.feature_column_v2) is deprecated and will be removed in a future version.\n",
      "Instructions for updating:\n",
      "The old _FeatureColumn APIs are being deprecated. Please use the new FeatureColumn APIs instead.\n",
      "W0428 14:30:00.122451 139968094037760 deprecation.py:323] From /opt/conda/lib/python3.6/site-packages/tensorflow_core/python/feature_column/feature_column_v2.py:4331: VocabularyListCategoricalColumn._num_buckets (from tensorflow.python.feature_column.feature_column_v2) is deprecated and will be removed in a future version.\n",
      "Instructions for updating:\n",
      "The old _FeatureColumn APIs are being deprecated. Please use the new FeatureColumn APIs instead.\n"
     ]
    },
    {
     "name": "stdout",
     "output_type": "stream",
     "text": [
      "Time, mean: 483.668\n",
      "4800 train examples\n",
      "1200 validation examples\n",
      "500 test examples\n",
      "Model training: 1\n",
      "  'report_id'         : [1]\n",
      "  'day_part'          : [3]\n",
      "  'report_params'     : [2.70811687]\n"
     ]
    },
    {
     "name": "stderr",
     "output_type": "stream",
     "text": [
      "W0428 14:33:19.382851 139968094037760 util.py:144] Unresolved object in checkpoint: (root).layer-0._resources.0._initializer\n",
      "W0428 14:33:19.385807 139968094037760 util.py:144] Unresolved object in checkpoint: (root).layer-0._resources.1._initializer\n",
      "W0428 14:33:19.389530 139968094037760 util.py:144] Unresolved object in checkpoint: (root).layer-0._resources.2._initializer\n",
      "W0428 14:33:19.396136 139968094037760 util.py:144] Unresolved object in checkpoint: (root).layer-0._resources.3._initializer\n",
      "W0428 14:33:19.405095 139968094037760 util.py:144] Unresolved object in checkpoint: (root).layer-0._resources.4._initializer\n",
      "W0428 14:33:19.415508 139968094037760 util.py:144] Unresolved object in checkpoint: (root).layer-0._resources.5._initializer\n",
      "W0428 14:33:19.424041 139968094037760 util.py:144] Unresolved object in checkpoint: (root).layer-0._resources.6._initializer\n",
      "W0428 14:33:19.428381 139968094037760 util.py:144] Unresolved object in checkpoint: (root).layer-0._resources.7._initializer\n",
      "W0428 14:33:19.438486 139968094037760 util.py:144] Unresolved object in checkpoint: (root).layer-0._resources.8._initializer\n",
      "W0428 14:33:19.443516 139968094037760 util.py:144] Unresolved object in checkpoint: (root).layer-0._resources.9._initializer\n",
      "W0428 14:33:19.452164 139968094037760 util.py:144] Unresolved object in checkpoint: (root).layer-0._resources.10._initializer\n",
      "W0428 14:33:19.467472 139968094037760 util.py:144] Unresolved object in checkpoint: (root).layer-0._resources.11._initializer\n",
      "W0428 14:33:19.475445 139968094037760 util.py:144] Unresolved object in checkpoint: (root).layer-0._resources.12._initializer\n",
      "W0428 14:33:19.483214 139968094037760 util.py:144] Unresolved object in checkpoint: (root).layer-0._resources.13._initializer\n",
      "W0428 14:33:19.484992 139968094037760 util.py:144] Unresolved object in checkpoint: (root).layer-0._resources.14._initializer\n",
      "W0428 14:33:19.491322 139968094037760 util.py:144] Unresolved object in checkpoint: (root).layer-0._resources.15._initializer\n",
      "W0428 14:33:19.494707 139968094037760 util.py:144] Unresolved object in checkpoint: (root).layer-0._resources.16._initializer\n",
      "W0428 14:33:19.499561 139968094037760 util.py:144] Unresolved object in checkpoint: (root).layer-0._resources.17._initializer\n",
      "W0428 14:33:19.504846 139968094037760 util.py:144] Unresolved object in checkpoint: (root).layer-0._resources.18._initializer\n",
      "W0428 14:33:19.511295 139968094037760 util.py:144] Unresolved object in checkpoint: (root).layer-0._resources.19._initializer\n",
      "W0428 14:33:19.520241 139968094037760 util.py:152] A checkpoint was restored (e.g. tf.train.Checkpoint.restore or tf.keras.Model.load_weights) but not all checkpointed values were used. See above for specific issues. Use expect_partial() on the load status object, e.g. tf.train.Checkpoint.restore(...).expect_partial(), to silence these warnings, or use assert_consumed() to make the check explicit. See https://www.tensorflow.org/alpha/guide/checkpoints#loading_mechanics for details.\n",
      "W0428 14:33:22.901490 139965501519616 base_layer.py:1814] Layer sequential is casting an input tensor from dtype float64 to the layer's dtype of float32, which is new behavior in TensorFlow 2.  The layer has dtype float32 because it's dtype defaults to floatx.\n",
      "\n",
      "If you intended to run this layer in float32, you can safely ignore this warning. If in doubt, this warning is likely only an issue if you are porting a TensorFlow 1.X model to TensorFlow 2.\n",
      "\n",
      "To change all layers to have dtype float64 by default, call `tf.keras.backend.set_floatx('float64')`. To change just this layer, pass dtype='float64' to the layer constructor. If you are the author of this layer, you can disable autocasting by passing autocast=False to the base Layer constructor.\n",
      "\n"
     ]
    },
    {
     "name": "stdout",
     "output_type": "stream",
     "text": [
      "  'report_id'         : [1]\n",
      "  'day_part'          : [3]\n",
      "  'report_params'     : [2.70811687]\n"
     ]
    },
    {
     "name": "stderr",
     "output_type": "stream",
     "text": [
      "W0428 14:33:27.789214 139965501519616 util.py:144] Unresolved object in checkpoint: (root).layer-0._resources.0._initializer\n",
      "W0428 14:33:27.791199 139965501519616 util.py:144] Unresolved object in checkpoint: (root).layer-0._resources.1._initializer\n",
      "W0428 14:33:27.793516 139965501519616 util.py:144] Unresolved object in checkpoint: (root).layer-0._resources.2._initializer\n",
      "W0428 14:33:27.796053 139965501519616 util.py:144] Unresolved object in checkpoint: (root).layer-0._resources.3._initializer\n",
      "W0428 14:33:27.798369 139965501519616 util.py:144] Unresolved object in checkpoint: (root).layer-0._resources.4._initializer\n",
      "W0428 14:33:27.801129 139965501519616 util.py:144] Unresolved object in checkpoint: (root).layer-0._resources.5._initializer\n",
      "W0428 14:33:27.809553 139965501519616 util.py:144] Unresolved object in checkpoint: (root).layer-0._resources.6._initializer\n",
      "W0428 14:33:27.812066 139965501519616 util.py:144] Unresolved object in checkpoint: (root).layer-0._resources.7._initializer\n",
      "W0428 14:33:27.824676 139965501519616 util.py:144] Unresolved object in checkpoint: (root).layer-0._resources.8._initializer\n",
      "W0428 14:33:27.836070 139965501519616 util.py:144] Unresolved object in checkpoint: (root).layer-0._resources.9._initializer\n",
      "W0428 14:33:27.842061 139965501519616 util.py:144] Unresolved object in checkpoint: (root).layer-0._resources.10._initializer\n",
      "W0428 14:33:27.854681 139965501519616 util.py:144] Unresolved object in checkpoint: (root).layer-0._resources.11._initializer\n",
      "W0428 14:33:27.870184 139965501519616 util.py:144] Unresolved object in checkpoint: (root).layer-0._resources.12._initializer\n",
      "W0428 14:33:27.889605 139965501519616 util.py:144] Unresolved object in checkpoint: (root).layer-0._resources.13._initializer\n",
      "W0428 14:33:27.897319 139965501519616 util.py:144] Unresolved object in checkpoint: (root).layer-0._resources.14._initializer\n",
      "W0428 14:33:27.911488 139965501519616 util.py:144] Unresolved object in checkpoint: (root).layer-0._resources.15._initializer\n",
      "W0428 14:33:27.914956 139965501519616 util.py:144] Unresolved object in checkpoint: (root).layer-0._resources.16._initializer\n",
      "W0428 14:33:27.920853 139965501519616 util.py:144] Unresolved object in checkpoint: (root).layer-0._resources.17._initializer\n",
      "W0428 14:33:27.935530 139965501519616 util.py:144] Unresolved object in checkpoint: (root).layer-0._resources.18._initializer\n",
      "W0428 14:33:27.955360 139965501519616 util.py:144] Unresolved object in checkpoint: (root).layer-0._resources.19._initializer\n",
      "W0428 14:33:27.963781 139965501519616 util.py:152] A checkpoint was restored (e.g. tf.train.Checkpoint.restore or tf.keras.Model.load_weights) but not all checkpointed values were used. See above for specific issues. Use expect_partial() on the load status object, e.g. tf.train.Checkpoint.restore(...).expect_partial(), to silence these warnings, or use assert_consumed() to make the check explicit. See https://www.tensorflow.org/alpha/guide/checkpoints#loading_mechanics for details.\n",
      "W0428 14:33:32.075539 139965501519616 base_layer.py:1814] Layer sequential is casting an input tensor from dtype float64 to the layer's dtype of float32, which is new behavior in TensorFlow 2.  The layer has dtype float32 because it's dtype defaults to floatx.\n",
      "\n",
      "If you intended to run this layer in float32, you can safely ignore this warning. If in doubt, this warning is likely only an issue if you are porting a TensorFlow 1.X model to TensorFlow 2.\n",
      "\n",
      "To change all layers to have dtype float64 by default, call `tf.keras.backend.set_floatx('float64')`. To change just this layer, pass dtype='float64' to the layer constructor. If you are the author of this layer, you can disable autocasting by passing autocast=False to the base Layer constructor.\n",
      "\n"
     ]
    },
    {
     "name": "stdout",
     "output_type": "stream",
     "text": [
      "  'report_id'         : [1]\n",
      "  'day_part'          : [3]\n",
      "  'report_params'     : [2.70811687]\n"
     ]
    },
    {
     "name": "stderr",
     "output_type": "stream",
     "text": [
      "W0428 14:33:43.001958 139968094037760 util.py:144] Unresolved object in checkpoint: (root).layer-0._resources.0._initializer\n",
      "W0428 14:33:43.005611 139968094037760 util.py:144] Unresolved object in checkpoint: (root).layer-0._resources.1._initializer\n",
      "W0428 14:33:43.011693 139968094037760 util.py:144] Unresolved object in checkpoint: (root).layer-0._resources.2._initializer\n",
      "W0428 14:33:43.017345 139968094037760 util.py:144] Unresolved object in checkpoint: (root).layer-0._resources.3._initializer\n",
      "W0428 14:33:43.030299 139968094037760 util.py:144] Unresolved object in checkpoint: (root).layer-0._resources.4._initializer\n",
      "W0428 14:33:43.034865 139968094037760 util.py:144] Unresolved object in checkpoint: (root).layer-0._resources.5._initializer\n",
      "W0428 14:33:43.042124 139968094037760 util.py:144] Unresolved object in checkpoint: (root).layer-0._resources.6._initializer\n",
      "W0428 14:33:43.047492 139968094037760 util.py:144] Unresolved object in checkpoint: (root).layer-0._resources.7._initializer\n",
      "W0428 14:33:43.061442 139968094037760 util.py:144] Unresolved object in checkpoint: (root).layer-0._resources.8._initializer\n",
      "W0428 14:33:43.065856 139968094037760 util.py:144] Unresolved object in checkpoint: (root).layer-0._resources.9._initializer\n",
      "W0428 14:33:43.071866 139968094037760 util.py:144] Unresolved object in checkpoint: (root).layer-0._resources.10._initializer\n",
      "W0428 14:33:43.085481 139968094037760 util.py:144] Unresolved object in checkpoint: (root).layer-0._resources.11._initializer\n",
      "W0428 14:33:43.094793 139968094037760 util.py:144] Unresolved object in checkpoint: (root).layer-0._resources.12._initializer\n",
      "W0428 14:33:43.101951 139968094037760 util.py:144] Unresolved object in checkpoint: (root).layer-0._resources.13._initializer\n",
      "W0428 14:33:43.115693 139968094037760 util.py:144] Unresolved object in checkpoint: (root).layer-0._resources.14._initializer\n",
      "W0428 14:33:43.121820 139968094037760 util.py:144] Unresolved object in checkpoint: (root).layer-0._resources.15._initializer\n",
      "W0428 14:33:43.123851 139968094037760 util.py:144] Unresolved object in checkpoint: (root).layer-0._resources.16._initializer\n",
      "W0428 14:33:43.126941 139968094037760 util.py:144] Unresolved object in checkpoint: (root).layer-0._resources.17._initializer\n",
      "W0428 14:33:43.131899 139968094037760 util.py:144] Unresolved object in checkpoint: (root).layer-0._resources.18._initializer\n",
      "W0428 14:33:43.137310 139968094037760 util.py:144] Unresolved object in checkpoint: (root).layer-0._resources.19._initializer\n",
      "W0428 14:33:43.146937 139968094037760 util.py:152] A checkpoint was restored (e.g. tf.train.Checkpoint.restore or tf.keras.Model.load_weights) but not all checkpointed values were used. See above for specific issues. Use expect_partial() on the load status object, e.g. tf.train.Checkpoint.restore(...).expect_partial(), to silence these warnings, or use assert_consumed() to make the check explicit. See https://www.tensorflow.org/alpha/guide/checkpoints#loading_mechanics for details.\n",
      "W0428 14:33:45.672671 139965501519616 base_layer.py:1814] Layer sequential is casting an input tensor from dtype float64 to the layer's dtype of float32, which is new behavior in TensorFlow 2.  The layer has dtype float32 because it's dtype defaults to floatx.\n",
      "\n",
      "If you intended to run this layer in float32, you can safely ignore this warning. If in doubt, this warning is likely only an issue if you are porting a TensorFlow 1.X model to TensorFlow 2.\n",
      "\n",
      "To change all layers to have dtype float64 by default, call `tf.keras.backend.set_floatx('float64')`. To change just this layer, pass dtype='float64' to the layer constructor. If you are the author of this layer, you can disable autocasting by passing autocast=False to the base Layer constructor.\n",
      "\n"
     ]
    },
    {
     "name": "stdout",
     "output_type": "stream",
     "text": [
      "  'report_id'         : [1]\n",
      "  'day_part'          : [3]\n",
      "  'report_params'     : [2.70811687]\n"
     ]
    },
    {
     "name": "stderr",
     "output_type": "stream",
     "text": [
      "W0428 14:35:38.995145 139968094037760 util.py:144] Unresolved object in checkpoint: (root).layer-0._resources.0._initializer\n",
      "W0428 14:35:38.996784 139968094037760 util.py:144] Unresolved object in checkpoint: (root).layer-0._resources.1._initializer\n",
      "W0428 14:35:38.997879 139968094037760 util.py:144] Unresolved object in checkpoint: (root).layer-0._resources.2._initializer\n",
      "W0428 14:35:38.999173 139968094037760 util.py:144] Unresolved object in checkpoint: (root).layer-0._resources.3._initializer\n",
      "W0428 14:35:39.000782 139968094037760 util.py:144] Unresolved object in checkpoint: (root).layer-0._resources.4._initializer\n",
      "W0428 14:35:39.002950 139968094037760 util.py:144] Unresolved object in checkpoint: (root).layer-0._resources.5._initializer\n",
      "W0428 14:35:39.005363 139968094037760 util.py:144] Unresolved object in checkpoint: (root).layer-0._resources.6._initializer\n",
      "W0428 14:35:39.007841 139968094037760 util.py:144] Unresolved object in checkpoint: (root).layer-0._resources.7._initializer\n",
      "W0428 14:35:39.014411 139968094037760 util.py:144] Unresolved object in checkpoint: (root).layer-0._resources.8._initializer\n",
      "W0428 14:35:39.016776 139968094037760 util.py:144] Unresolved object in checkpoint: (root).layer-0._resources.9._initializer\n",
      "W0428 14:35:39.019311 139968094037760 util.py:144] Unresolved object in checkpoint: (root).layer-0._resources.10._initializer\n",
      "W0428 14:35:39.021963 139968094037760 util.py:144] Unresolved object in checkpoint: (root).layer-0._resources.11._initializer\n",
      "W0428 14:35:39.027318 139968094037760 util.py:144] Unresolved object in checkpoint: (root).layer-0._resources.12._initializer\n",
      "W0428 14:35:39.030459 139968094037760 util.py:144] Unresolved object in checkpoint: (root).layer-0._resources.13._initializer\n",
      "W0428 14:35:39.033805 139968094037760 util.py:144] Unresolved object in checkpoint: (root).layer-0._resources.14._initializer\n",
      "W0428 14:35:39.037885 139968094037760 util.py:144] Unresolved object in checkpoint: (root).layer-0._resources.15._initializer\n",
      "W0428 14:35:39.040983 139968094037760 util.py:144] Unresolved object in checkpoint: (root).layer-0._resources.16._initializer\n",
      "W0428 14:35:39.044332 139968094037760 util.py:144] Unresolved object in checkpoint: (root).layer-0._resources.17._initializer\n",
      "W0428 14:35:39.047143 139968094037760 util.py:144] Unresolved object in checkpoint: (root).layer-0._resources.18._initializer\n",
      "W0428 14:35:39.051156 139968094037760 util.py:144] Unresolved object in checkpoint: (root).layer-0._resources.19._initializer\n",
      "W0428 14:35:39.053840 139968094037760 util.py:152] A checkpoint was restored (e.g. tf.train.Checkpoint.restore or tf.keras.Model.load_weights) but not all checkpointed values were used. See above for specific issues. Use expect_partial() on the load status object, e.g. tf.train.Checkpoint.restore(...).expect_partial(), to silence these warnings, or use assert_consumed() to make the check explicit. See https://www.tensorflow.org/alpha/guide/checkpoints#loading_mechanics for details.\n",
      "W0428 14:35:39.919649 139965501519616 base_layer.py:1814] Layer sequential is casting an input tensor from dtype float64 to the layer's dtype of float32, which is new behavior in TensorFlow 2.  The layer has dtype float32 because it's dtype defaults to floatx.\n",
      "\n",
      "If you intended to run this layer in float32, you can safely ignore this warning. If in doubt, this warning is likely only an issue if you are porting a TensorFlow 1.X model to TensorFlow 2.\n",
      "\n",
      "To change all layers to have dtype float64 by default, call `tf.keras.backend.set_floatx('float64')`. To change just this layer, pass dtype='float64' to the layer constructor. If you are the author of this layer, you can disable autocasting by passing autocast=False to the base Layer constructor.\n",
      "\n"
     ]
    },
    {
     "name": "stdout",
     "output_type": "stream",
     "text": [
      "  'report_id'         : [1]\n",
      "  'day_part'          : [3]\n",
      "  'report_params'     : [2.70811687]\n"
     ]
    },
    {
     "name": "stderr",
     "output_type": "stream",
     "text": [
      "W0428 14:35:47.407181 139965501519616 base_layer.py:1814] Layer sequential is casting an input tensor from dtype float64 to the layer's dtype of float32, which is new behavior in TensorFlow 2.  The layer has dtype float32 because it's dtype defaults to floatx.\n",
      "\n",
      "If you intended to run this layer in float32, you can safely ignore this warning. If in doubt, this warning is likely only an issue if you are porting a TensorFlow 1.X model to TensorFlow 2.\n",
      "\n",
      "To change all layers to have dtype float64 by default, call `tf.keras.backend.set_floatx('float64')`. To change just this layer, pass dtype='float64' to the layer constructor. If you are the author of this layer, you can disable autocasting by passing autocast=False to the base Layer constructor.\n",
      "\n",
      "W0428 14:43:03.452290 139968094037760 base_layer.py:1814] Layer dense_features is casting an input tensor from dtype float64 to the layer's dtype of float32, which is new behavior in TensorFlow 2.  The layer has dtype float32 because it's dtype defaults to floatx.\n",
      "\n",
      "If you intended to run this layer in float32, you can safely ignore this warning. If in doubt, this warning is likely only an issue if you are porting a TensorFlow 1.X model to TensorFlow 2.\n",
      "\n",
      "To change all layers to have dtype float64 by default, call `tf.keras.backend.set_floatx('float64')`. To change just this layer, pass dtype='float64' to the layer constructor. If you are the author of this layer, you can disable autocasting by passing autocast=False to the base Layer constructor.\n",
      "\n"
     ]
    },
    {
     "name": "stdout",
     "output_type": "stream",
     "text": [
      "Testing set RMSE Error:18.91\n",
      "Saving model with RMSE Error:18.91\n"
     ]
    },
    {
     "name": "stderr",
     "output_type": "stream",
     "text": [
      "W0428 14:43:04.219176 139968094037760 util.py:144] Unresolved object in checkpoint: (root).layer-0._resources.0._initializer\n",
      "W0428 14:43:04.220666 139968094037760 util.py:144] Unresolved object in checkpoint: (root).layer-0._resources.1._initializer\n",
      "W0428 14:43:04.223481 139968094037760 util.py:144] Unresolved object in checkpoint: (root).layer-0._resources.2._initializer\n",
      "W0428 14:43:04.225041 139968094037760 util.py:144] Unresolved object in checkpoint: (root).layer-0._resources.3._initializer\n",
      "W0428 14:43:04.226062 139968094037760 util.py:144] Unresolved object in checkpoint: (root).layer-0._resources.4._initializer\n",
      "W0428 14:43:04.227605 139968094037760 util.py:144] Unresolved object in checkpoint: (root).layer-0._resources.5._initializer\n",
      "W0428 14:43:04.228628 139968094037760 util.py:144] Unresolved object in checkpoint: (root).layer-0._resources.6._initializer\n",
      "W0428 14:43:04.229967 139968094037760 util.py:144] Unresolved object in checkpoint: (root).layer-0._resources.7._initializer\n",
      "W0428 14:43:04.231270 139968094037760 util.py:144] Unresolved object in checkpoint: (root).layer-0._resources.8._initializer\n",
      "W0428 14:43:04.232363 139968094037760 util.py:144] Unresolved object in checkpoint: (root).layer-0._resources.9._initializer\n",
      "W0428 14:43:04.233482 139968094037760 util.py:144] Unresolved object in checkpoint: (root).layer-0._resources.10._initializer\n",
      "W0428 14:43:04.234598 139968094037760 util.py:144] Unresolved object in checkpoint: (root).layer-0._resources.11._initializer\n",
      "W0428 14:43:04.235808 139968094037760 util.py:144] Unresolved object in checkpoint: (root).layer-0._resources.12._initializer\n",
      "W0428 14:43:04.236980 139968094037760 util.py:144] Unresolved object in checkpoint: (root).layer-0._resources.13._initializer\n",
      "W0428 14:43:04.238149 139968094037760 util.py:144] Unresolved object in checkpoint: (root).layer-0._resources.14._initializer\n",
      "W0428 14:43:04.239293 139968094037760 util.py:144] Unresolved object in checkpoint: (root).layer-0._resources.15._initializer\n",
      "W0428 14:43:04.240154 139968094037760 util.py:144] Unresolved object in checkpoint: (root).layer-0._resources.16._initializer\n",
      "W0428 14:43:04.241376 139968094037760 util.py:144] Unresolved object in checkpoint: (root).layer-0._resources.17._initializer\n",
      "W0428 14:43:04.242478 139968094037760 util.py:144] Unresolved object in checkpoint: (root).layer-0._resources.18._initializer\n",
      "W0428 14:43:04.243508 139968094037760 util.py:144] Unresolved object in checkpoint: (root).layer-0._resources.19._initializer\n",
      "W0428 14:43:04.244725 139968094037760 util.py:152] A checkpoint was restored (e.g. tf.train.Checkpoint.restore or tf.keras.Model.load_weights) but not all checkpointed values were used. See above for specific issues. Use expect_partial() on the load status object, e.g. tf.train.Checkpoint.restore(...).expect_partial(), to silence these warnings, or use assert_consumed() to make the check explicit. See https://www.tensorflow.org/alpha/guide/checkpoints#loading_mechanics for details.\n",
      "W0428 14:43:04.417313 139968094037760 util.py:144] Unresolved object in checkpoint: (root).layer-0._resources.0._initializer\n",
      "W0428 14:43:04.418658 139968094037760 util.py:144] Unresolved object in checkpoint: (root).layer-0._resources.1._initializer\n",
      "W0428 14:43:04.420157 139968094037760 util.py:144] Unresolved object in checkpoint: (root).layer-0._resources.2._initializer\n",
      "W0428 14:43:04.421391 139968094037760 util.py:144] Unresolved object in checkpoint: (root).layer-0._resources.3._initializer\n",
      "W0428 14:43:04.422961 139968094037760 util.py:144] Unresolved object in checkpoint: (root).layer-0._resources.4._initializer\n",
      "W0428 14:43:04.424200 139968094037760 util.py:144] Unresolved object in checkpoint: (root).layer-0._resources.5._initializer\n",
      "W0428 14:43:04.425518 139968094037760 util.py:144] Unresolved object in checkpoint: (root).layer-0._resources.6._initializer\n",
      "W0428 14:43:04.426733 139968094037760 util.py:144] Unresolved object in checkpoint: (root).layer-0._resources.7._initializer\n",
      "W0428 14:43:04.427504 139968094037760 util.py:144] Unresolved object in checkpoint: (root).layer-0._resources.8._initializer\n",
      "W0428 14:43:04.428762 139968094037760 util.py:144] Unresolved object in checkpoint: (root).layer-0._resources.9._initializer\n",
      "W0428 14:43:04.429567 139968094037760 util.py:144] Unresolved object in checkpoint: (root).layer-0._resources.10._initializer\n",
      "W0428 14:43:04.430754 139968094037760 util.py:144] Unresolved object in checkpoint: (root).layer-0._resources.11._initializer\n",
      "W0428 14:43:04.431724 139968094037760 util.py:144] Unresolved object in checkpoint: (root).layer-0._resources.12._initializer\n",
      "W0428 14:43:04.433092 139968094037760 util.py:144] Unresolved object in checkpoint: (root).layer-0._resources.13._initializer\n",
      "W0428 14:43:04.434068 139968094037760 util.py:144] Unresolved object in checkpoint: (root).layer-0._resources.14._initializer\n",
      "W0428 14:43:04.435097 139968094037760 util.py:144] Unresolved object in checkpoint: (root).layer-0._resources.15._initializer\n",
      "W0428 14:43:04.436461 139968094037760 util.py:144] Unresolved object in checkpoint: (root).layer-0._resources.16._initializer\n",
      "W0428 14:43:04.437361 139968094037760 util.py:144] Unresolved object in checkpoint: (root).layer-0._resources.17._initializer\n",
      "W0428 14:43:04.438389 139968094037760 util.py:144] Unresolved object in checkpoint: (root).layer-0._resources.18._initializer\n",
      "W0428 14:43:04.439670 139968094037760 util.py:144] Unresolved object in checkpoint: (root).layer-0._resources.19._initializer\n",
      "W0428 14:43:04.440863 139968094037760 util.py:152] A checkpoint was restored (e.g. tf.train.Checkpoint.restore or tf.keras.Model.load_weights) but not all checkpointed values were used. See above for specific issues. Use expect_partial() on the load status object, e.g. tf.train.Checkpoint.restore(...).expect_partial(), to silence these warnings, or use assert_consumed() to make the check explicit. See https://www.tensorflow.org/alpha/guide/checkpoints#loading_mechanics for details.\n",
      "W0428 14:43:05.425176 139968094037760 deprecation.py:506] From /opt/conda/lib/python3.6/site-packages/tensorflow_core/python/ops/resource_variable_ops.py:1781: calling BaseResourceVariable.__init__ (from tensorflow.python.ops.resource_variable_ops) with constraint is deprecated and will be removed in a future version.\n",
      "Instructions for updating:\n",
      "If using Keras pass *_constraint arguments to layers.\n",
      "W0428 14:43:06.030084 139968094037760 base_layer.py:1814] Layer sequential is casting an input tensor from dtype float64 to the layer's dtype of float32, which is new behavior in TensorFlow 2.  The layer has dtype float32 because it's dtype defaults to floatx.\n",
      "\n",
      "If you intended to run this layer in float32, you can safely ignore this warning. If in doubt, this warning is likely only an issue if you are porting a TensorFlow 1.X model to TensorFlow 2.\n",
      "\n",
      "To change all layers to have dtype float64 by default, call `tf.keras.backend.set_floatx('float64')`. To change just this layer, pass dtype='float64' to the layer constructor. If you are the author of this layer, you can disable autocasting by passing autocast=False to the base Layer constructor.\n",
      "\n"
     ]
    },
    {
     "name": "stdout",
     "output_type": "stream",
     "text": [
      "Model training: 2\n"
     ]
    },
    {
     "name": "stderr",
     "output_type": "stream",
     "text": [
      "W0428 14:56:05.192008 139968094037760 base_layer.py:1814] Layer dense_features is casting an input tensor from dtype float64 to the layer's dtype of float32, which is new behavior in TensorFlow 2.  The layer has dtype float32 because it's dtype defaults to floatx.\n",
      "\n",
      "If you intended to run this layer in float32, you can safely ignore this warning. If in doubt, this warning is likely only an issue if you are porting a TensorFlow 1.X model to TensorFlow 2.\n",
      "\n",
      "To change all layers to have dtype float64 by default, call `tf.keras.backend.set_floatx('float64')`. To change just this layer, pass dtype='float64' to the layer constructor. If you are the author of this layer, you can disable autocasting by passing autocast=False to the base Layer constructor.\n",
      "\n"
     ]
    },
    {
     "name": "stdout",
     "output_type": "stream",
     "text": [
      "Testing set RMSE Error:18.73\n",
      "Saving model with RMSE Error:18.73\n"
     ]
    },
    {
     "name": "stderr",
     "output_type": "stream",
     "text": [
      "W0428 14:56:07.246966 139968094037760 base_layer.py:1814] Layer sequential is casting an input tensor from dtype float64 to the layer's dtype of float32, which is new behavior in TensorFlow 2.  The layer has dtype float32 because it's dtype defaults to floatx.\n",
      "\n",
      "If you intended to run this layer in float32, you can safely ignore this warning. If in doubt, this warning is likely only an issue if you are porting a TensorFlow 1.X model to TensorFlow 2.\n",
      "\n",
      "To change all layers to have dtype float64 by default, call `tf.keras.backend.set_floatx('float64')`. To change just this layer, pass dtype='float64' to the layer constructor. If you are the author of this layer, you can disable autocasting by passing autocast=False to the base Layer constructor.\n",
      "\n"
     ]
    },
    {
     "name": "stdout",
     "output_type": "stream",
     "text": [
      "Model training: 3\n"
     ]
    },
    {
     "name": "stderr",
     "output_type": "stream",
     "text": [
      "W0428 14:56:42.999924 139968094037760 base_layer.py:1814] Layer sequential is casting an input tensor from dtype float64 to the layer's dtype of float32, which is new behavior in TensorFlow 2.  The layer has dtype float32 because it's dtype defaults to floatx.\n",
      "\n",
      "If you intended to run this layer in float32, you can safely ignore this warning. If in doubt, this warning is likely only an issue if you are porting a TensorFlow 1.X model to TensorFlow 2.\n",
      "\n",
      "To change all layers to have dtype float64 by default, call `tf.keras.backend.set_floatx('float64')`. To change just this layer, pass dtype='float64' to the layer constructor. If you are the author of this layer, you can disable autocasting by passing autocast=False to the base Layer constructor.\n",
      "\n"
     ]
    },
    {
     "name": "stdout",
     "output_type": "stream",
     "text": [
      "Testing set RMSE Error:19.65\n",
      "Model training: 4\n",
      "  'report_id'         : [1]\n",
      "  'day_part'          : [3]\n",
      "  'report_params'     : [2.70811687]\n"
     ]
    },
    {
     "name": "stderr",
     "output_type": "stream",
     "text": [
      "W0428 15:07:15.180228 139964336019200 base_layer.py:1814] Layer sequential is casting an input tensor from dtype float64 to the layer's dtype of float32, which is new behavior in TensorFlow 2.  The layer has dtype float32 because it's dtype defaults to floatx.\n",
      "\n",
      "If you intended to run this layer in float32, you can safely ignore this warning. If in doubt, this warning is likely only an issue if you are porting a TensorFlow 1.X model to TensorFlow 2.\n",
      "\n",
      "To change all layers to have dtype float64 by default, call `tf.keras.backend.set_floatx('float64')`. To change just this layer, pass dtype='float64' to the layer constructor. If you are the author of this layer, you can disable autocasting by passing autocast=False to the base Layer constructor.\n",
      "\n"
     ]
    },
    {
     "name": "stdout",
     "output_type": "stream",
     "text": [
      "  'report_id'         : [1]\n",
      "  'day_part'          : [3]\n",
      "  'report_params'     : [2.70811687]\n"
     ]
    },
    {
     "name": "stderr",
     "output_type": "stream",
     "text": [
      "W0428 15:07:24.238252 139964336019200 base_layer.py:1814] Layer sequential is casting an input tensor from dtype float64 to the layer's dtype of float32, which is new behavior in TensorFlow 2.  The layer has dtype float32 because it's dtype defaults to floatx.\n",
      "\n",
      "If you intended to run this layer in float32, you can safely ignore this warning. If in doubt, this warning is likely only an issue if you are porting a TensorFlow 1.X model to TensorFlow 2.\n",
      "\n",
      "To change all layers to have dtype float64 by default, call `tf.keras.backend.set_floatx('float64')`. To change just this layer, pass dtype='float64' to the layer constructor. If you are the author of this layer, you can disable autocasting by passing autocast=False to the base Layer constructor.\n",
      "\n"
     ]
    },
    {
     "name": "stdout",
     "output_type": "stream",
     "text": [
      "  'report_id'         : [1]\n",
      "  'day_part'          : [3]\n",
      "  'report_params'     : [2.70811687]\n"
     ]
    },
    {
     "name": "stderr",
     "output_type": "stream",
     "text": [
      "W0428 15:07:58.609912 139964336019200 util.py:144] Unresolved object in checkpoint: (root).layer-0._resources.0._initializer\n",
      "W0428 15:07:58.611756 139964336019200 util.py:144] Unresolved object in checkpoint: (root).layer-0._resources.1._initializer\n",
      "W0428 15:07:58.621658 139964336019200 util.py:144] Unresolved object in checkpoint: (root).layer-0._resources.2._initializer\n",
      "W0428 15:07:58.629562 139964336019200 util.py:144] Unresolved object in checkpoint: (root).layer-0._resources.3._initializer\n",
      "W0428 15:07:58.638753 139964336019200 util.py:144] Unresolved object in checkpoint: (root).layer-0._resources.4._initializer\n",
      "W0428 15:07:58.647700 139964336019200 util.py:144] Unresolved object in checkpoint: (root).layer-0._resources.5._initializer\n",
      "W0428 15:07:58.653034 139964336019200 util.py:144] Unresolved object in checkpoint: (root).layer-0._resources.6._initializer\n",
      "W0428 15:07:58.662788 139964336019200 util.py:144] Unresolved object in checkpoint: (root).layer-0._resources.7._initializer\n",
      "W0428 15:07:58.667241 139964336019200 util.py:144] Unresolved object in checkpoint: (root).layer-0._resources.8._initializer\n",
      "W0428 15:07:58.673392 139964336019200 util.py:144] Unresolved object in checkpoint: (root).layer-0._resources.9._initializer\n",
      "W0428 15:07:58.686740 139964336019200 util.py:144] Unresolved object in checkpoint: (root).layer-0._resources.10._initializer\n",
      "W0428 15:07:58.692046 139964336019200 util.py:144] Unresolved object in checkpoint: (root).layer-0._resources.11._initializer\n",
      "W0428 15:07:58.698341 139964336019200 util.py:144] Unresolved object in checkpoint: (root).layer-0._resources.12._initializer\n",
      "W0428 15:07:58.707286 139964336019200 util.py:144] Unresolved object in checkpoint: (root).layer-0._resources.13._initializer\n",
      "W0428 15:07:58.712594 139964336019200 util.py:144] Unresolved object in checkpoint: (root).layer-0._resources.14._initializer\n",
      "W0428 15:07:58.715852 139964336019200 util.py:144] Unresolved object in checkpoint: (root).layer-0._resources.15._initializer\n",
      "W0428 15:07:58.720470 139964336019200 util.py:144] Unresolved object in checkpoint: (root).layer-0._resources.16._initializer\n",
      "W0428 15:07:58.726848 139964336019200 util.py:144] Unresolved object in checkpoint: (root).layer-0._resources.17._initializer\n",
      "W0428 15:07:58.738914 139964336019200 util.py:144] Unresolved object in checkpoint: (root).layer-0._resources.18._initializer\n",
      "W0428 15:07:58.744533 139964336019200 util.py:144] Unresolved object in checkpoint: (root).layer-0._resources.19._initializer\n",
      "W0428 15:07:58.751702 139964336019200 util.py:152] A checkpoint was restored (e.g. tf.train.Checkpoint.restore or tf.keras.Model.load_weights) but not all checkpointed values were used. See above for specific issues. Use expect_partial() on the load status object, e.g. tf.train.Checkpoint.restore(...).expect_partial(), to silence these warnings, or use assert_consumed() to make the check explicit. See https://www.tensorflow.org/alpha/guide/checkpoints#loading_mechanics for details.\n",
      "W0428 15:07:59.297141 139964336019200 util.py:144] Unresolved object in checkpoint: (root).layer-0._resources.0._initializer\n",
      "W0428 15:07:59.304798 139964336019200 util.py:144] Unresolved object in checkpoint: (root).layer-0._resources.1._initializer\n",
      "W0428 15:07:59.308934 139964336019200 util.py:144] Unresolved object in checkpoint: (root).layer-0._resources.2._initializer\n",
      "W0428 15:07:59.316335 139964336019200 util.py:144] Unresolved object in checkpoint: (root).layer-0._resources.3._initializer\n",
      "W0428 15:07:59.325419 139964336019200 util.py:144] Unresolved object in checkpoint: (root).layer-0._resources.4._initializer\n",
      "W0428 15:07:59.334878 139964336019200 util.py:144] Unresolved object in checkpoint: (root).layer-0._resources.5._initializer\n",
      "W0428 15:07:59.343738 139964336019200 util.py:144] Unresolved object in checkpoint: (root).layer-0._resources.6._initializer\n",
      "W0428 15:07:59.346305 139964336019200 util.py:144] Unresolved object in checkpoint: (root).layer-0._resources.7._initializer\n",
      "W0428 15:07:59.354298 139964336019200 util.py:144] Unresolved object in checkpoint: (root).layer-0._resources.8._initializer\n",
      "W0428 15:07:59.361860 139964336019200 util.py:144] Unresolved object in checkpoint: (root).layer-0._resources.9._initializer\n",
      "W0428 15:07:59.371245 139964336019200 util.py:144] Unresolved object in checkpoint: (root).layer-0._resources.10._initializer\n",
      "W0428 15:07:59.380026 139964336019200 util.py:144] Unresolved object in checkpoint: (root).layer-0._resources.11._initializer\n",
      "W0428 15:07:59.395546 139964336019200 util.py:144] Unresolved object in checkpoint: (root).layer-0._resources.12._initializer\n",
      "W0428 15:07:59.399140 139964336019200 util.py:144] Unresolved object in checkpoint: (root).layer-0._resources.13._initializer\n",
      "W0428 15:07:59.425119 139964336019200 util.py:144] Unresolved object in checkpoint: (root).layer-0._resources.14._initializer\n",
      "W0428 15:07:59.428507 139964336019200 util.py:144] Unresolved object in checkpoint: (root).layer-0._resources.15._initializer\n",
      "W0428 15:07:59.438328 139964336019200 util.py:144] Unresolved object in checkpoint: (root).layer-0._resources.16._initializer\n",
      "W0428 15:07:59.447000 139964336019200 util.py:144] Unresolved object in checkpoint: (root).layer-0._resources.17._initializer\n",
      "W0428 15:07:59.451899 139964336019200 util.py:144] Unresolved object in checkpoint: (root).layer-0._resources.18._initializer\n",
      "W0428 15:07:59.462757 139964336019200 util.py:144] Unresolved object in checkpoint: (root).layer-0._resources.19._initializer\n",
      "W0428 15:07:59.470572 139964336019200 util.py:152] A checkpoint was restored (e.g. tf.train.Checkpoint.restore or tf.keras.Model.load_weights) but not all checkpointed values were used. See above for specific issues. Use expect_partial() on the load status object, e.g. tf.train.Checkpoint.restore(...).expect_partial(), to silence these warnings, or use assert_consumed() to make the check explicit. See https://www.tensorflow.org/alpha/guide/checkpoints#loading_mechanics for details.\n",
      "W0428 15:08:01.083589 139964336019200 base_layer.py:1814] Layer sequential is casting an input tensor from dtype float64 to the layer's dtype of float32, which is new behavior in TensorFlow 2.  The layer has dtype float32 because it's dtype defaults to floatx.\n",
      "\n",
      "If you intended to run this layer in float32, you can safely ignore this warning. If in doubt, this warning is likely only an issue if you are porting a TensorFlow 1.X model to TensorFlow 2.\n",
      "\n",
      "To change all layers to have dtype float64 by default, call `tf.keras.backend.set_floatx('float64')`. To change just this layer, pass dtype='float64' to the layer constructor. If you are the author of this layer, you can disable autocasting by passing autocast=False to the base Layer constructor.\n",
      "\n",
      "W0428 15:11:55.055551 139968094037760 base_layer.py:1814] Layer dense_features is casting an input tensor from dtype float64 to the layer's dtype of float32, which is new behavior in TensorFlow 2.  The layer has dtype float32 because it's dtype defaults to floatx.\n",
      "\n",
      "If you intended to run this layer in float32, you can safely ignore this warning. If in doubt, this warning is likely only an issue if you are porting a TensorFlow 1.X model to TensorFlow 2.\n",
      "\n",
      "To change all layers to have dtype float64 by default, call `tf.keras.backend.set_floatx('float64')`. To change just this layer, pass dtype='float64' to the layer constructor. If you are the author of this layer, you can disable autocasting by passing autocast=False to the base Layer constructor.\n",
      "\n"
     ]
    },
    {
     "name": "stdout",
     "output_type": "stream",
     "text": [
      "Testing set RMSE Error:18.72\n",
      "Saving model with RMSE Error:18.72\n"
     ]
    },
    {
     "name": "stderr",
     "output_type": "stream",
     "text": [
      "W0428 15:11:56.814170 139968094037760 base_layer.py:1814] Layer sequential is casting an input tensor from dtype float64 to the layer's dtype of float32, which is new behavior in TensorFlow 2.  The layer has dtype float32 because it's dtype defaults to floatx.\n",
      "\n",
      "If you intended to run this layer in float32, you can safely ignore this warning. If in doubt, this warning is likely only an issue if you are porting a TensorFlow 1.X model to TensorFlow 2.\n",
      "\n",
      "To change all layers to have dtype float64 by default, call `tf.keras.backend.set_floatx('float64')`. To change just this layer, pass dtype='float64' to the layer constructor. If you are the author of this layer, you can disable autocasting by passing autocast=False to the base Layer constructor.\n",
      "\n"
     ]
    },
    {
     "name": "stdout",
     "output_type": "stream",
     "text": [
      "Model training: 5\n"
     ]
    },
    {
     "name": "stderr",
     "output_type": "stream",
     "text": [
      "W0428 15:13:39.171991 139968094037760 base_layer.py:1814] Layer dense_features is casting an input tensor from dtype float64 to the layer's dtype of float32, which is new behavior in TensorFlow 2.  The layer has dtype float32 because it's dtype defaults to floatx.\n",
      "\n",
      "If you intended to run this layer in float32, you can safely ignore this warning. If in doubt, this warning is likely only an issue if you are porting a TensorFlow 1.X model to TensorFlow 2.\n",
      "\n",
      "To change all layers to have dtype float64 by default, call `tf.keras.backend.set_floatx('float64')`. To change just this layer, pass dtype='float64' to the layer constructor. If you are the author of this layer, you can disable autocasting by passing autocast=False to the base Layer constructor.\n",
      "\n"
     ]
    },
    {
     "name": "stdout",
     "output_type": "stream",
     "text": [
      "Testing set RMSE Error: 7.79\n",
      "Saving model with RMSE Error: 7.79\n"
     ]
    },
    {
     "name": "stderr",
     "output_type": "stream",
     "text": [
      "W0428 15:13:40.307097 139968094037760 util.py:144] Unresolved object in checkpoint: (root).layer-0._resources.0._initializer\n",
      "W0428 15:13:40.308735 139968094037760 util.py:144] Unresolved object in checkpoint: (root).layer-0._resources.1._initializer\n",
      "W0428 15:13:40.310950 139968094037760 util.py:144] Unresolved object in checkpoint: (root).layer-0._resources.2._initializer\n",
      "W0428 15:13:40.311764 139968094037760 util.py:144] Unresolved object in checkpoint: (root).layer-0._resources.3._initializer\n",
      "W0428 15:13:40.312622 139968094037760 util.py:144] Unresolved object in checkpoint: (root).layer-0._resources.4._initializer\n",
      "W0428 15:13:40.313987 139968094037760 util.py:144] Unresolved object in checkpoint: (root).layer-0._resources.5._initializer\n",
      "W0428 15:13:40.315353 139968094037760 util.py:144] Unresolved object in checkpoint: (root).layer-0._resources.6._initializer\n",
      "W0428 15:13:40.316615 139968094037760 util.py:144] Unresolved object in checkpoint: (root).layer-0._resources.7._initializer\n",
      "W0428 15:13:40.317632 139968094037760 util.py:144] Unresolved object in checkpoint: (root).layer-0._resources.8._initializer\n",
      "W0428 15:13:40.319276 139968094037760 util.py:144] Unresolved object in checkpoint: (root).layer-0._resources.9._initializer\n",
      "W0428 15:13:40.321619 139968094037760 util.py:144] Unresolved object in checkpoint: (root).layer-0._resources.10._initializer\n",
      "W0428 15:13:40.322838 139968094037760 util.py:144] Unresolved object in checkpoint: (root).layer-0._resources.11._initializer\n",
      "W0428 15:13:40.324748 139968094037760 util.py:144] Unresolved object in checkpoint: (root).layer-0._resources.12._initializer\n",
      "W0428 15:13:40.326252 139968094037760 util.py:144] Unresolved object in checkpoint: (root).layer-0._resources.13._initializer\n",
      "W0428 15:13:40.327312 139968094037760 util.py:144] Unresolved object in checkpoint: (root).layer-0._resources.14._initializer\n",
      "W0428 15:13:40.328684 139968094037760 util.py:144] Unresolved object in checkpoint: (root).layer-0._resources.15._initializer\n",
      "W0428 15:13:40.329779 139968094037760 util.py:144] Unresolved object in checkpoint: (root).layer-0._resources.16._initializer\n",
      "W0428 15:13:40.331955 139968094037760 util.py:144] Unresolved object in checkpoint: (root).layer-0._resources.17._initializer\n",
      "W0428 15:13:40.333800 139968094037760 util.py:144] Unresolved object in checkpoint: (root).layer-0._resources.18._initializer\n",
      "W0428 15:13:40.335173 139968094037760 util.py:144] Unresolved object in checkpoint: (root).layer-0._resources.19._initializer\n",
      "W0428 15:13:40.336564 139968094037760 util.py:152] A checkpoint was restored (e.g. tf.train.Checkpoint.restore or tf.keras.Model.load_weights) but not all checkpointed values were used. See above for specific issues. Use expect_partial() on the load status object, e.g. tf.train.Checkpoint.restore(...).expect_partial(), to silence these warnings, or use assert_consumed() to make the check explicit. See https://www.tensorflow.org/alpha/guide/checkpoints#loading_mechanics for details.\n",
      "W0428 15:13:41.529850 139968094037760 base_layer.py:1814] Layer sequential is casting an input tensor from dtype float64 to the layer's dtype of float32, which is new behavior in TensorFlow 2.  The layer has dtype float32 because it's dtype defaults to floatx.\n",
      "\n",
      "If you intended to run this layer in float32, you can safely ignore this warning. If in doubt, this warning is likely only an issue if you are porting a TensorFlow 1.X model to TensorFlow 2.\n",
      "\n",
      "To change all layers to have dtype float64 by default, call `tf.keras.backend.set_floatx('float64')`. To change just this layer, pass dtype='float64' to the layer constructor. If you are the author of this layer, you can disable autocasting by passing autocast=False to the base Layer constructor.\n",
      "\n"
     ]
    },
    {
     "name": "stdout",
     "output_type": "stream",
     "text": [
      "Model training: 6\n"
     ]
    },
    {
     "name": "stderr",
     "output_type": "stream",
     "text": [
      "W0428 15:23:19.084019 139968094037760 base_layer.py:1814] Layer sequential is casting an input tensor from dtype float64 to the layer's dtype of float32, which is new behavior in TensorFlow 2.  The layer has dtype float32 because it's dtype defaults to floatx.\n",
      "\n",
      "If you intended to run this layer in float32, you can safely ignore this warning. If in doubt, this warning is likely only an issue if you are porting a TensorFlow 1.X model to TensorFlow 2.\n",
      "\n",
      "To change all layers to have dtype float64 by default, call `tf.keras.backend.set_floatx('float64')`. To change just this layer, pass dtype='float64' to the layer constructor. If you are the author of this layer, you can disable autocasting by passing autocast=False to the base Layer constructor.\n",
      "\n"
     ]
    },
    {
     "name": "stdout",
     "output_type": "stream",
     "text": [
      "Testing set RMSE Error:18.76\n",
      "Model training: 7\n"
     ]
    },
    {
     "name": "stderr",
     "output_type": "stream",
     "text": [
      "W0428 15:24:38.403684 139968094037760 base_layer.py:1814] Layer sequential is casting an input tensor from dtype float64 to the layer's dtype of float32, which is new behavior in TensorFlow 2.  The layer has dtype float32 because it's dtype defaults to floatx.\n",
      "\n",
      "If you intended to run this layer in float32, you can safely ignore this warning. If in doubt, this warning is likely only an issue if you are porting a TensorFlow 1.X model to TensorFlow 2.\n",
      "\n",
      "To change all layers to have dtype float64 by default, call `tf.keras.backend.set_floatx('float64')`. To change just this layer, pass dtype='float64' to the layer constructor. If you are the author of this layer, you can disable autocasting by passing autocast=False to the base Layer constructor.\n",
      "\n"
     ]
    },
    {
     "name": "stdout",
     "output_type": "stream",
     "text": [
      "Testing set RMSE Error:11.02\n",
      "Model training: 8\n"
     ]
    },
    {
     "name": "stderr",
     "output_type": "stream",
     "text": [
      "W0428 15:25:46.383205 139968094037760 base_layer.py:1814] Layer sequential is casting an input tensor from dtype float64 to the layer's dtype of float32, which is new behavior in TensorFlow 2.  The layer has dtype float32 because it's dtype defaults to floatx.\n",
      "\n",
      "If you intended to run this layer in float32, you can safely ignore this warning. If in doubt, this warning is likely only an issue if you are porting a TensorFlow 1.X model to TensorFlow 2.\n",
      "\n",
      "To change all layers to have dtype float64 by default, call `tf.keras.backend.set_floatx('float64')`. To change just this layer, pass dtype='float64' to the layer constructor. If you are the author of this layer, you can disable autocasting by passing autocast=False to the base Layer constructor.\n",
      "\n"
     ]
    },
    {
     "name": "stdout",
     "output_type": "stream",
     "text": [
      "Testing set RMSE Error:11.61\n",
      "Model training: 9\n"
     ]
    },
    {
     "name": "stderr",
     "output_type": "stream",
     "text": [
      "W0428 15:41:02.522005 139968094037760 base_layer.py:1814] Layer sequential is casting an input tensor from dtype float64 to the layer's dtype of float32, which is new behavior in TensorFlow 2.  The layer has dtype float32 because it's dtype defaults to floatx.\n",
      "\n",
      "If you intended to run this layer in float32, you can safely ignore this warning. If in doubt, this warning is likely only an issue if you are porting a TensorFlow 1.X model to TensorFlow 2.\n",
      "\n",
      "To change all layers to have dtype float64 by default, call `tf.keras.backend.set_floatx('float64')`. To change just this layer, pass dtype='float64' to the layer constructor. If you are the author of this layer, you can disable autocasting by passing autocast=False to the base Layer constructor.\n",
      "\n"
     ]
    },
    {
     "name": "stdout",
     "output_type": "stream",
     "text": [
      "Testing set RMSE Error:18.57\n",
      "Model training: 10\n",
      "Testing set RMSE Error:19.21\n"
     ]
    },
    {
     "data": {
      "image/png": "[encoded data removed]",
      "text/plain": [
       "<Figure size 432x288 with 1 Axes>"
      ]
     },
     "metadata": {
      "needs_background": "light"
     },
     "output_type": "display_data"
    },
    {
     "data": {
      "image/png": "[encoded data removed]",
      "text/plain": [
       "<Figure size 432x288 with 1 Axes>"
      ]
     },
     "metadata": {
      "needs_background": "light"
     },
     "output_type": "display_data"
    },
    {
     "name": "stdout",
     "output_type": "stream",
     "text": [
      "Best RMSE Error: 7.79\n",
      "Creating new model: 1588088961\n",
      "  'report_id'         : [1]\n",
      "  'day_part'          : [3]\n",
      "  'report_params'     : [2.70811687]\n"
     ]
    },
    {
     "name": "stderr",
     "output_type": "stream",
     "text": [
      "W0428 15:51:55.566243 139965518305024 base_layer.py:1814] Layer sequential is casting an input tensor from dtype float64 to the layer's dtype of float32, which is new behavior in TensorFlow 2.  The layer has dtype float32 because it's dtype defaults to floatx.\n",
      "\n",
      "If you intended to run this layer in float32, you can safely ignore this warning. If in doubt, this warning is likely only an issue if you are porting a TensorFlow 1.X model to TensorFlow 2.\n",
      "\n",
      "To change all layers to have dtype float64 by default, call `tf.keras.backend.set_floatx('float64')`. To change just this layer, pass dtype='float64' to the layer constructor. If you are the author of this layer, you can disable autocasting by passing autocast=False to the base Layer constructor.\n",
      "\n"
     ]
    },
    {
     "name": "stdout",
     "output_type": "stream",
     "text": [
      "  'report_id'         : [1]\n",
      "  'day_part'          : [3]\n",
      "  'report_params'     : [2.70811687]\n"
     ]
    },
    {
     "name": "stderr",
     "output_type": "stream",
     "text": [
      "W0428 15:52:03.868377 139965518305024 util.py:144] Unresolved object in checkpoint: (root).layer-0._resources.0._initializer\n",
      "W0428 15:52:03.869462 139965518305024 util.py:144] Unresolved object in checkpoint: (root).layer-0._resources.1._initializer\n",
      "W0428 15:52:03.873455 139965518305024 util.py:144] Unresolved object in checkpoint: (root).layer-0._resources.2._initializer\n",
      "W0428 15:52:03.875240 139965518305024 util.py:144] Unresolved object in checkpoint: (root).layer-0._resources.3._initializer\n",
      "W0428 15:52:03.883851 139965518305024 util.py:144] Unresolved object in checkpoint: (root).layer-0._resources.4._initializer\n",
      "W0428 15:52:03.885660 139965518305024 util.py:144] Unresolved object in checkpoint: (root).layer-0._resources.5._initializer\n",
      "W0428 15:52:03.886965 139965518305024 util.py:144] Unresolved object in checkpoint: (root).layer-0._resources.6._initializer\n",
      "W0428 15:52:03.888150 139965518305024 util.py:144] Unresolved object in checkpoint: (root).layer-0._resources.7._initializer\n",
      "W0428 15:52:03.889373 139965518305024 util.py:144] Unresolved object in checkpoint: (root).layer-0._resources.8._initializer\n",
      "W0428 15:52:03.890450 139965518305024 util.py:144] Unresolved object in checkpoint: (root).layer-0._resources.9._initializer\n",
      "W0428 15:52:03.891704 139965518305024 util.py:144] Unresolved object in checkpoint: (root).layer-0._resources.10._initializer\n",
      "W0428 15:52:03.892998 139965518305024 util.py:144] Unresolved object in checkpoint: (root).layer-0._resources.11._initializer\n",
      "W0428 15:52:03.895436 139965518305024 util.py:144] Unresolved object in checkpoint: (root).layer-0._resources.12._initializer\n",
      "W0428 15:52:03.906343 139965518305024 util.py:144] Unresolved object in checkpoint: (root).layer-0._resources.13._initializer\n",
      "W0428 15:52:03.913830 139965518305024 util.py:144] Unresolved object in checkpoint: (root).layer-0._resources.14._initializer\n",
      "W0428 15:52:03.915597 139965518305024 util.py:144] Unresolved object in checkpoint: (root).layer-0._resources.15._initializer\n",
      "W0428 15:52:03.917616 139965518305024 util.py:144] Unresolved object in checkpoint: (root).layer-0._resources.16._initializer\n",
      "W0428 15:52:03.919737 139965518305024 util.py:144] Unresolved object in checkpoint: (root).layer-0._resources.17._initializer\n",
      "W0428 15:52:03.921403 139965518305024 util.py:144] Unresolved object in checkpoint: (root).layer-0._resources.18._initializer\n",
      "W0428 15:52:03.922627 139965518305024 util.py:144] Unresolved object in checkpoint: (root).layer-0._resources.19._initializer\n",
      "W0428 15:52:03.924256 139965518305024 util.py:152] A checkpoint was restored (e.g. tf.train.Checkpoint.restore or tf.keras.Model.load_weights) but not all checkpointed values were used. See above for specific issues. Use expect_partial() on the load status object, e.g. tf.train.Checkpoint.restore(...).expect_partial(), to silence these warnings, or use assert_consumed() to make the check explicit. See https://www.tensorflow.org/alpha/guide/checkpoints#loading_mechanics for details.\n",
      "W0428 15:52:03.991944 139965518305024 base_layer.py:1814] Layer sequential is casting an input tensor from dtype float64 to the layer's dtype of float32, which is new behavior in TensorFlow 2.  The layer has dtype float32 because it's dtype defaults to floatx.\n",
      "\n",
      "If you intended to run this layer in float32, you can safely ignore this warning. If in doubt, this warning is likely only an issue if you are porting a TensorFlow 1.X model to TensorFlow 2.\n",
      "\n",
      "To change all layers to have dtype float64 by default, call `tf.keras.backend.set_floatx('float64')`. To change just this layer, pass dtype='float64' to the layer constructor. If you are the author of this layer, you can disable autocasting by passing autocast=False to the base Layer constructor.\n",
      "\n"
     ]
    }
   ],
   "source": [
    "app = Flask(__name__)\n",
    "CORS(app)\n",
    "\n",
    "@app.route(\"/katana-ml/api/v1.0/predict/reporttime\", methods=['POST'])\n",
    "def predict():\n",
    "    report_id = request.json['report_id']\n",
    "    report_params = request.json['report_params']\n",
    "    day_part = request.json['day_part']\n",
    "    \n",
    "    input_data = [[report_id, report_params, day_part]]\n",
    "    result = report_model.run_predict(input_data)\n",
    "    \n",
    "    return str(result[0][0])\n",
    "\n",
    "# running REST interface port=3000\n",
    "if __name__ == \"__main__\":\n",
    "    app.run(debug=False, host='0.0.0.0', port=3000)"
   ]
  },
  {
   "cell_type": "code",
   "execution_count": null,
   "metadata": {},
   "outputs": [],
   "source": []
  }
 ],
 "metadata": {
  "kernelspec": {
   "display_name": "Python 3",
   "language": "python",
   "name": "python3"
  },
  "language_info": {
   "codemirror_mode": {
    "name": "ipython",
    "version": 3
   },
   "file_extension": ".py",
   "mimetype": "text/x-python",
   "name": "python",
   "nbconvert_exporter": "python",
   "pygments_lexer": "ipython3",
   "version": "3.6.7"
  }
 },
 "nbformat": 4,
 "nbformat_minor": 4
}
