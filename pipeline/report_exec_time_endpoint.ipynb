{
 "cells": [
  {
   "cell_type": "code",
   "execution_count": 1,
   "metadata": {},
   "outputs": [
    {
     "name": "stdout",
     "output_type": "stream",
     "text": [
      "2.0.0\n"
     ]
    }
   ],
   "source": [
    "from flask import Flask, jsonify, request\n",
    "from flask_cors import CORS, cross_origin\n",
    "import pandas as pd\n",
    "import numpy as np\n",
    "\n",
    "import report_exec_time_model as report_model\n",
    "\n",
    "import subprocess\n",
    "from apscheduler.schedulers.background import BackgroundScheduler\n",
    "import atexit"
   ]
  },
  {
   "cell_type": "code",
   "execution_count": 2,
   "metadata": {},
   "outputs": [
    {
     "data": {
      "text/plain": [
       "<function __main__.<lambda>()>"
      ]
     },
     "execution_count": 2,
     "metadata": {},
     "output_type": "execute_result"
    }
   ],
   "source": [
    "# create scheduler\n",
    "scheduler = BackgroundScheduler()\n",
    "scheduler.start()\n",
    "\n",
    "# Using UTC time to schedule job, once per day.\n",
    "scheduler.add_job(\n",
    "    func=report_model.train_model,\n",
    "    trigger='cron',\n",
    "    hour='9', \n",
    "    minute='45')\n",
    "\n",
    "# Shut down the scheduler when exiting the process\n",
    "atexit.register(lambda: scheduler.shutdown())"
   ]
  },
  {
   "cell_type": "code",
   "execution_count": 3,
   "metadata": {},
   "outputs": [
    {
     "name": "stdout",
     "output_type": "stream",
     "text": [
      " * Serving Flask app \"__main__\" (lazy loading)\n",
      " * Environment: production\n",
      "   WARNING: Do not use the development server in a production environment.\n",
      "   Use a production WSGI server instead.\n",
      " * Debug mode: off\n",
      "  'report_id'         : [1]\n",
      "  'day_part'          : [3]\n",
      "  'report_params'     : [2.70811687]\n"
     ]
    },
    {
     "name": "stderr",
     "output_type": "stream",
     "text": [
      "WARNING: Logging before flag parsing goes to stderr.\n",
      "W0429 09:43:19.891729 139849653266176 base_layer.py:1814] Layer sequential is casting an input tensor from dtype float64 to the layer's dtype of float32, which is new behavior in TensorFlow 2.  The layer has dtype float32 because it's dtype defaults to floatx.\n",
      "\n",
      "If you intended to run this layer in float32, you can safely ignore this warning. If in doubt, this warning is likely only an issue if you are porting a TensorFlow 1.X model to TensorFlow 2.\n",
      "\n",
      "To change all layers to have dtype float64 by default, call `tf.keras.backend.set_floatx('float64')`. To change just this layer, pass dtype='float64' to the layer constructor. If you are the author of this layer, you can disable autocasting by passing autocast=False to the base Layer constructor.\n",
      "\n"
     ]
    },
    {
     "name": "stdout",
     "output_type": "stream",
     "text": [
      "  'report_id'         : [1]\n",
      "  'day_part'          : [3]\n",
      "  'report_params'     : [2.70811687]\n"
     ]
    },
    {
     "name": "stderr",
     "output_type": "stream",
     "text": [
      "W0429 09:43:25.107447 139849653266176 util.py:144] Unresolved object in checkpoint: (root).layer-0._resources.0._initializer\n",
      "W0429 09:43:25.108857 139849653266176 util.py:144] Unresolved object in checkpoint: (root).layer-0._resources.1._initializer\n",
      "W0429 09:43:25.110162 139849653266176 util.py:144] Unresolved object in checkpoint: (root).layer-0._resources.2._initializer\n",
      "W0429 09:43:25.110954 139849653266176 util.py:144] Unresolved object in checkpoint: (root).layer-0._resources.3._initializer\n",
      "W0429 09:43:25.111974 139849653266176 util.py:144] Unresolved object in checkpoint: (root).layer-0._resources.4._initializer\n",
      "W0429 09:43:25.115690 139849653266176 util.py:144] Unresolved object in checkpoint: (root).layer-0._resources.5._initializer\n",
      "W0429 09:43:25.116758 139849653266176 util.py:144] Unresolved object in checkpoint: (root).layer-0._resources.6._initializer\n",
      "W0429 09:43:25.118804 139849653266176 util.py:144] Unresolved object in checkpoint: (root).layer-0._resources.7._initializer\n",
      "W0429 09:43:25.120685 139849653266176 util.py:144] Unresolved object in checkpoint: (root).layer-0._resources.8._initializer\n",
      "W0429 09:43:25.122133 139849653266176 util.py:144] Unresolved object in checkpoint: (root).layer-0._resources.9._initializer\n",
      "W0429 09:43:25.127419 139849653266176 util.py:144] Unresolved object in checkpoint: (root).layer-0._resources.10._initializer\n",
      "W0429 09:43:25.128248 139849653266176 util.py:144] Unresolved object in checkpoint: (root).layer-0._resources.11._initializer\n",
      "W0429 09:43:25.129507 139849653266176 util.py:144] Unresolved object in checkpoint: (root).layer-0._resources.12._initializer\n",
      "W0429 09:43:25.130669 139849653266176 util.py:144] Unresolved object in checkpoint: (root).layer-0._resources.13._initializer\n",
      "W0429 09:43:25.131739 139849653266176 util.py:144] Unresolved object in checkpoint: (root).layer-0._resources.14._initializer\n",
      "W0429 09:43:25.132976 139849653266176 util.py:144] Unresolved object in checkpoint: (root).layer-0._resources.15._initializer\n",
      "W0429 09:43:25.134015 139849653266176 util.py:144] Unresolved object in checkpoint: (root).layer-0._resources.16._initializer\n",
      "W0429 09:43:25.135516 139849653266176 util.py:144] Unresolved object in checkpoint: (root).layer-0._resources.17._initializer\n",
      "W0429 09:43:25.137558 139849653266176 util.py:144] Unresolved object in checkpoint: (root).layer-0._resources.18._initializer\n",
      "W0429 09:43:25.139021 139849653266176 util.py:144] Unresolved object in checkpoint: (root).layer-0._resources.19._initializer\n",
      "W0429 09:43:25.143961 139849653266176 util.py:152] A checkpoint was restored (e.g. tf.train.Checkpoint.restore or tf.keras.Model.load_weights) but not all checkpointed values were used. See above for specific issues. Use expect_partial() on the load status object, e.g. tf.train.Checkpoint.restore(...).expect_partial(), to silence these warnings, or use assert_consumed() to make the check explicit. See https://www.tensorflow.org/alpha/guide/checkpoints#loading_mechanics for details.\n",
      "W0429 09:43:25.227232 139849653266176 base_layer.py:1814] Layer sequential is casting an input tensor from dtype float64 to the layer's dtype of float32, which is new behavior in TensorFlow 2.  The layer has dtype float32 because it's dtype defaults to floatx.\n",
      "\n",
      "If you intended to run this layer in float32, you can safely ignore this warning. If in doubt, this warning is likely only an issue if you are porting a TensorFlow 1.X model to TensorFlow 2.\n",
      "\n",
      "To change all layers to have dtype float64 by default, call `tf.keras.backend.set_floatx('float64')`. To change just this layer, pass dtype='float64' to the layer constructor. If you are the author of this layer, you can disable autocasting by passing autocast=False to the base Layer constructor.\n",
      "\n",
      "W0429 09:45:00.129162 139849653266176 deprecation.py:323] From /opt/conda/lib/python3.6/site-packages/tensorflow_core/python/feature_column/feature_column_v2.py:4276: IndicatorColumn._variable_shape (from tensorflow.python.feature_column.feature_column_v2) is deprecated and will be removed in a future version.\n",
      "Instructions for updating:\n",
      "The old _FeatureColumn APIs are being deprecated. Please use the new FeatureColumn APIs instead.\n",
      "W0429 09:45:00.131408 139849653266176 deprecation.py:323] From /opt/conda/lib/python3.6/site-packages/tensorflow_core/python/feature_column/feature_column_v2.py:4331: VocabularyListCategoricalColumn._num_buckets (from tensorflow.python.feature_column.feature_column_v2) is deprecated and will be removed in a future version.\n",
      "Instructions for updating:\n",
      "The old _FeatureColumn APIs are being deprecated. Please use the new FeatureColumn APIs instead.\n"
     ]
    },
    {
     "name": "stdout",
     "output_type": "stream",
     "text": [
      "Time, mean for test dataset: 463.66\n",
      "4800 train examples\n",
      "1200 validation examples\n",
      "500 test examples\n",
      "Model training: 1\n",
      "Testing set RMSE Error:11.03\n",
      "Saving model with RMSE Error:11.03\n"
     ]
    },
    {
     "name": "stderr",
     "output_type": "stream",
     "text": [
      "W0429 09:46:15.474068 139849653266176 util.py:144] Unresolved object in checkpoint: (root).layer-0._resources.0._initializer\n",
      "W0429 09:46:15.478718 139849653266176 util.py:144] Unresolved object in checkpoint: (root).layer-0._resources.1._initializer\n",
      "W0429 09:46:15.480010 139849653266176 util.py:144] Unresolved object in checkpoint: (root).layer-0._resources.2._initializer\n",
      "W0429 09:46:15.482679 139849653266176 util.py:144] Unresolved object in checkpoint: (root).layer-0._resources.3._initializer\n",
      "W0429 09:46:15.485660 139849653266176 util.py:144] Unresolved object in checkpoint: (root).layer-0._resources.4._initializer\n",
      "W0429 09:46:15.486567 139849653266176 util.py:144] Unresolved object in checkpoint: (root).layer-0._resources.5._initializer\n",
      "W0429 09:46:15.489037 139849653266176 util.py:144] Unresolved object in checkpoint: (root).layer-0._resources.6._initializer\n",
      "W0429 09:46:15.491773 139849653266176 util.py:144] Unresolved object in checkpoint: (root).layer-0._resources.7._initializer\n",
      "W0429 09:46:15.494935 139849653266176 util.py:144] Unresolved object in checkpoint: (root).layer-0._resources.8._initializer\n",
      "W0429 09:46:15.496227 139849653266176 util.py:144] Unresolved object in checkpoint: (root).layer-0._resources.9._initializer\n",
      "W0429 09:46:15.497631 139849653266176 util.py:144] Unresolved object in checkpoint: (root).layer-0._resources.10._initializer\n",
      "W0429 09:46:15.498742 139849653266176 util.py:144] Unresolved object in checkpoint: (root).layer-0._resources.11._initializer\n",
      "W0429 09:46:15.499751 139849653266176 util.py:144] Unresolved object in checkpoint: (root).layer-0._resources.12._initializer\n",
      "W0429 09:46:15.502978 139849653266176 util.py:144] Unresolved object in checkpoint: (root).layer-0._resources.13._initializer\n",
      "W0429 09:46:15.503884 139849653266176 util.py:144] Unresolved object in checkpoint: (root).layer-0._resources.14._initializer\n",
      "W0429 09:46:15.504862 139849653266176 util.py:144] Unresolved object in checkpoint: (root).layer-0._resources.15._initializer\n",
      "W0429 09:46:15.505826 139849653266176 util.py:144] Unresolved object in checkpoint: (root).layer-0._resources.16._initializer\n",
      "W0429 09:46:15.506744 139849653266176 util.py:144] Unresolved object in checkpoint: (root).layer-0._resources.17._initializer\n",
      "W0429 09:46:15.507609 139849653266176 util.py:144] Unresolved object in checkpoint: (root).layer-0._resources.18._initializer\n",
      "W0429 09:46:15.511225 139849653266176 util.py:144] Unresolved object in checkpoint: (root).layer-0._resources.19._initializer\n",
      "W0429 09:46:15.512125 139849653266176 util.py:152] A checkpoint was restored (e.g. tf.train.Checkpoint.restore or tf.keras.Model.load_weights) but not all checkpointed values were used. See above for specific issues. Use expect_partial() on the load status object, e.g. tf.train.Checkpoint.restore(...).expect_partial(), to silence these warnings, or use assert_consumed() to make the check explicit. See https://www.tensorflow.org/alpha/guide/checkpoints#loading_mechanics for details.\n",
      "W0429 09:46:16.873213 139849653266176 deprecation.py:506] From /opt/conda/lib/python3.6/site-packages/tensorflow_core/python/ops/resource_variable_ops.py:1781: calling BaseResourceVariable.__init__ (from tensorflow.python.ops.resource_variable_ops) with constraint is deprecated and will be removed in a future version.\n",
      "Instructions for updating:\n",
      "If using Keras pass *_constraint arguments to layers.\n"
     ]
    },
    {
     "name": "stdout",
     "output_type": "stream",
     "text": [
      "Model training: 2\n",
      "Testing set RMSE Error:18.83\n",
      "Model training: 3\n",
      "Testing set RMSE Error:18.70\n",
      "Model training: 4\n",
      "Testing set RMSE Error: 8.95\n",
      "Saving model with RMSE Error: 8.95\n",
      "Model training: 5\n",
      "Testing set RMSE Error:18.66\n",
      "Model training: 6\n",
      "Testing set RMSE Error:18.73\n",
      "Model training: 7\n",
      "Testing set RMSE Error: 8.02\n",
      "Saving model with RMSE Error: 8.02\n",
      "Model training: 8\n",
      "Testing set RMSE Error:11.59\n",
      "Model training: 9\n",
      "Testing set RMSE Error:18.66\n",
      "Model training: 10\n",
      "Testing set RMSE Error:18.71\n"
     ]
    },
    {
     "data": {
      "image/png": "[encoded data removed]",
      "text/plain": [
       "<Figure size 432x288 with 1 Axes>"
      ]
     },
     "metadata": {
      "needs_background": "light"
     },
     "output_type": "display_data"
    },
    {
     "data": {
      "image/png": "[encoded data removed]",
      "text/plain": [
       "<Figure size 432x288 with 1 Axes>"
      ]
     },
     "metadata": {
      "needs_background": "light"
     },
     "output_type": "display_data"
    },
    {
     "name": "stdout",
     "output_type": "stream",
     "text": [
      "Best RMSE Error: 8.02\n",
      "Creating new model: 1588154196\n",
      "  'report_id'         : [1]\n",
      "  'day_part'          : [3]\n",
      "  'report_params'     : [2.70811687]\n",
      "  'report_id'         : [1]\n",
      "  'day_part'          : [3]\n",
      "  'report_params'     : [2.70811687]\n"
     ]
    },
    {
     "name": "stderr",
     "output_type": "stream",
     "text": [
      "W0429 11:15:12.675378 139847004051200 util.py:144] Unresolved object in checkpoint: (root).layer-0._resources.0._initializer\n",
      "W0429 11:15:12.676504 139847004051200 util.py:144] Unresolved object in checkpoint: (root).layer-0._resources.1._initializer\n",
      "W0429 11:15:12.677766 139847004051200 util.py:144] Unresolved object in checkpoint: (root).layer-0._resources.2._initializer\n",
      "W0429 11:15:12.678560 139847004051200 util.py:144] Unresolved object in checkpoint: (root).layer-0._resources.3._initializer\n",
      "W0429 11:15:12.680583 139847004051200 util.py:144] Unresolved object in checkpoint: (root).layer-0._resources.4._initializer\n",
      "W0429 11:15:12.682158 139847004051200 util.py:144] Unresolved object in checkpoint: (root).layer-0._resources.5._initializer\n",
      "W0429 11:15:12.683646 139847004051200 util.py:144] Unresolved object in checkpoint: (root).layer-0._resources.6._initializer\n",
      "W0429 11:15:12.685354 139847004051200 util.py:144] Unresolved object in checkpoint: (root).layer-0._resources.7._initializer\n",
      "W0429 11:15:12.686573 139847004051200 util.py:144] Unresolved object in checkpoint: (root).layer-0._resources.8._initializer\n",
      "W0429 11:15:12.687938 139847004051200 util.py:144] Unresolved object in checkpoint: (root).layer-0._resources.9._initializer\n",
      "W0429 11:15:12.688833 139847004051200 util.py:144] Unresolved object in checkpoint: (root).layer-0._resources.10._initializer\n",
      "W0429 11:15:12.694143 139847004051200 util.py:144] Unresolved object in checkpoint: (root).layer-0._resources.11._initializer\n",
      "W0429 11:15:12.695498 139847004051200 util.py:144] Unresolved object in checkpoint: (root).layer-0._resources.12._initializer\n",
      "W0429 11:15:12.698142 139847004051200 util.py:144] Unresolved object in checkpoint: (root).layer-0._resources.13._initializer\n",
      "W0429 11:15:12.702423 139847004051200 util.py:144] Unresolved object in checkpoint: (root).layer-0._resources.14._initializer\n",
      "W0429 11:15:12.703911 139847004051200 util.py:144] Unresolved object in checkpoint: (root).layer-0._resources.15._initializer\n",
      "W0429 11:15:12.705892 139847004051200 util.py:144] Unresolved object in checkpoint: (root).layer-0._resources.16._initializer\n",
      "W0429 11:15:12.708430 139847004051200 util.py:144] Unresolved object in checkpoint: (root).layer-0._resources.17._initializer\n",
      "W0429 11:15:12.709579 139847004051200 util.py:152] A checkpoint was restored (e.g. tf.train.Checkpoint.restore or tf.keras.Model.load_weights) but not all checkpointed values were used. See above for specific issues. Use expect_partial() on the load status object, e.g. tf.train.Checkpoint.restore(...).expect_partial(), to silence these warnings, or use assert_consumed() to make the check explicit. See https://www.tensorflow.org/alpha/guide/checkpoints#loading_mechanics for details.\n"
     ]
    }
   ],
   "source": [
    "app = Flask(__name__)\n",
    "CORS(app)\n",
    "\n",
    "@app.route(\"/katana-ml/api/v1.0/predict/reporttime\", methods=['POST'])\n",
    "def predict():\n",
    "    report_id = request.json['report_id']\n",
    "    report_params = request.json['report_params']\n",
    "    day_part = request.json['day_part']\n",
    "    \n",
    "    input_data = [[report_id, report_params, day_part]]\n",
    "    result = report_model.run_predict(input_data)\n",
    "    \n",
    "    return str(result[0][0])\n",
    "\n",
    "# running REST interface port=3000\n",
    "if __name__ == \"__main__\":\n",
    "    app.run(debug=False, host='0.0.0.0', port=3000)"
   ]
  },
  {
   "cell_type": "code",
   "execution_count": null,
   "metadata": {},
   "outputs": [],
   "source": []
  }
 ],
 "metadata": {
  "kernelspec": {
   "display_name": "Python 3",
   "language": "python",
   "name": "python3"
  },
  "language_info": {
   "codemirror_mode": {
    "name": "ipython",
    "version": 3
   },
   "file_extension": ".py",
   "mimetype": "text/x-python",
   "name": "python",
   "nbconvert_exporter": "python",
   "pygments_lexer": "ipython3",
   "version": "3.6.7"
  }
 },
 "nbformat": 4,
 "nbformat_minor": 4
}
